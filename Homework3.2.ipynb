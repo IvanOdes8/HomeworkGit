{
 "cells": [
  {
   "cell_type": "code",
   "execution_count": 23,
   "metadata": {},
   "outputs": [
    {
     "name": "stdout",
     "output_type": "stream",
     "text": [
      "es\n"
     ]
    }
   ],
   "source": [
    "word = 'test'\n",
    "if int(len(word)) % 2 ==0:\n",
    "    print(word[1:3])"
   ]
  },
  {
   "cell_type": "code",
   "execution_count": 42,
   "metadata": {},
   "outputs": [
    {
     "name": "stdout",
     "output_type": "stream",
     "text": [
      "t\n"
     ]
    }
   ],
   "source": [
    "word = 'testing'\n",
    "if int(len(word)) % 2 ==0:\n",
    "    print('четное')\n",
    "else: \n",
    "    print(word[3])"
   ]
  },
  {
   "cell_type": "code",
   "execution_count": 55,
   "metadata": {},
   "outputs": [
    {
     "name": "stdout",
     "output_type": "stream",
     "text": [
      "Введите число: 3\n",
      "Введите число: 4\n",
      "Введите число: 5\n",
      "Введите число: 6\n",
      "Введите число: 0\n",
      "[4, 5, 6, 0]\n"
     ]
    },
    {
     "data": {
      "text/plain": [
       "15"
      ]
     },
     "execution_count": 55,
     "metadata": {},
     "output_type": "execute_result"
    }
   ],
   "source": [
    "x = int(input('Введите число: '))\n",
    "numbers = []\n",
    "while x != 0:\n",
    "    x = int(input('Введите число: '))\n",
    "    numbers.append(x)\n",
    "print(numbers)\n",
    "sum(numbers)"
   ]
  },
  {
   "cell_type": "code",
   "execution_count": 1,
   "metadata": {},
   "outputs": [],
   "source": [
    "boys = ['Peter', 'Alex', 'John', 'Arthur', 'Richard']"
   ]
  },
  {
   "cell_type": "code",
   "execution_count": 2,
   "metadata": {},
   "outputs": [],
   "source": [
    "girls = ['Kate', 'Liza', 'Kira', 'Emma', 'Trisha']"
   ]
  },
  {
   "cell_type": "code",
   "execution_count": 3,
   "metadata": {},
   "outputs": [
    {
     "name": "stdout",
     "output_type": "stream",
     "text": [
      "Идеальные пары:\n"
     ]
    },
    {
     "data": {
      "text/plain": [
       "[('Alex', 'Emma'),\n",
       " ('Arthur', 'Kate'),\n",
       " ('John', 'Kira'),\n",
       " ('Peter', 'Liza'),\n",
       " ('Richard', 'Trisha')]"
      ]
     },
     "execution_count": 3,
     "metadata": {},
     "output_type": "execute_result"
    }
   ],
   "source": [
    "boys_girls = zip(sorted(boys),sorted(girls))\n",
    "print ('Идеальные пары:')\n",
    "list(boys_girls)"
   ]
  },
  {
   "cell_type": "code",
   "execution_count": 4,
   "metadata": {},
   "outputs": [
    {
     "name": "stdout",
     "output_type": "stream",
     "text": [
      "Внимание, кто-то может остаться без пары!\n"
     ]
    }
   ],
   "source": [
    "boys = ['Peter', 'Alex', 'John', 'Arthur', 'Richard', 'Michael']\n",
    "girls = ['Kate', 'Liza', 'Kira', 'Emma', 'Trisha']\n",
    "if len(boys) != len(girls):\n",
    "    print('Внимание, кто-то может остаться без пары!')"
   ]
  },
  {
   "cell_type": "code",
   "execution_count": 5,
   "metadata": {},
   "outputs": [
    {
     "data": {
      "text/plain": [
       "23.9"
      ]
     },
     "execution_count": 5,
     "metadata": {},
     "output_type": "execute_result"
    }
   ],
   "source": [
    "countries_temperature = [\n",
    "['Thailand', [75.2, 77, 78.8, 73.4, 68, 75.2, 77]],\n",
    "['Germany', [57.2, 55.4, 59, 59, 53.6]],\n",
    "['Russia', [35.6, 37.4, 39.2, 41, 42.8, 39.2, 35.6]],\n",
    "['Poland', [50, 50, 53.6, 57.2, 55.4, 55.4]]\n",
    "]\n",
    "Thailand = countries_temperature[0][1]\n",
    "round((sum(Thailand)/len(Thailand)-32)*5/9,1)"
   ]
  },
  {
   "cell_type": "code",
   "execution_count": 6,
   "metadata": {},
   "outputs": [
    {
     "name": "stdout",
     "output_type": "stream",
     "text": [
      "Средняя температура в странах:\n",
      "Thailand - 23.9\n",
      "Germany - 13.8\n",
      "Russia - 3.7\n",
      "Poland - 12.0\n"
     ]
    }
   ],
   "source": [
    "print('Средняя температура в странах:')\n",
    "print(countries_temperature[0][0],'-',round((sum(countries_temperature[0][1])/len(countries_temperature[0][1])-32)*5/9,1))\n",
    "print(countries_temperature[1][0],'-',round((sum(countries_temperature[1][1])/len(countries_temperature[1][1])-32)*5/9,1))\n",
    "print(countries_temperature[2][0],'-',round((sum(countries_temperature[2][1])/len(countries_temperature[2][1])-32)*5/9,1))\n",
    "print(countries_temperature[3][0],'-',round((sum(countries_temperature[3][1])/len(countries_temperature[3][1])-32)*5/9,1))"
   ]
  },
  {
   "cell_type": "code",
   "execution_count": 7,
   "metadata": {},
   "outputs": [
    {
     "name": "stdout",
     "output_type": "stream",
     "text": [
      "Thailand [75.2, 77, 78.8, 73.4, 68, 75.2, 77] \n",
      "Germany [57.2, 55.4, 59, 59, 53.6] \n",
      "Russia [35.6, 37.4, 39.2, 41, 42.8, 39.2, 35.6] \n",
      "Poland [50, 50, 53.6, 57.2, 55.4, 55.4] \n"
     ]
    }
   ],
   "source": [
    "for i in range(len(countries_temperature)):\n",
    "    for j in range(len(countries_temperature[i])):\n",
    "        print (countries_temperature[i][j], end = ' ')\n",
    "    print()"
   ]
  },
  {
   "cell_type": "code",
   "execution_count": 46,
   "metadata": {},
   "outputs": [
    {
     "name": "stdout",
     "output_type": "stream",
     "text": [
      "Средняя температура в странах:\n",
      "Thailand - 23.9\n",
      "Germany - 13.8\n",
      "Russia - 3.7\n",
      "Poland - 12.0\n"
     ]
    }
   ],
   "source": [
    "countries_temperature = [\n",
    "['Thailand', [75.2, 77, 78.8, 73.4, 68, 75.2, 77]],\n",
    "['Germany', [57.2, 55.4, 59, 59, 53.6]],\n",
    "['Russia', [35.6, 37.4, 39.2, 41, 42.8, 39.2, 35.6]],\n",
    "['Poland', [50, 50, 53.6, 57.2, 55.4, 55.4]]\n",
    "]\n",
    "print('Средняя температура в странах:')\n",
    "for country, Temp in countries_temperature:\n",
    "    print(country, \"-\", round((sum(Temp) / len(Temp)-32) * 5 / 9, 1))"
   ]
  },
  {
   "cell_type": "code",
   "execution_count": null,
   "metadata": {},
   "outputs": [],
   "source": []
  }
 ],
 "metadata": {
  "kernelspec": {
   "display_name": "Python 3",
   "language": "python",
   "name": "python3"
  },
  "language_info": {
   "codemirror_mode": {
    "name": "ipython",
    "version": 3
   },
   "file_extension": ".py",
   "mimetype": "text/x-python",
   "name": "python",
   "nbconvert_exporter": "python",
   "pygments_lexer": "ipython3",
   "version": "3.7.3"
  }
 },
 "nbformat": 4,
 "nbformat_minor": 2
}
